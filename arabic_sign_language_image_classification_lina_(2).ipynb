{
  "nbformat": 4,
  "nbformat_minor": 0,
  "metadata": {
    "kernelspec": {
      "language": "python",
      "display_name": "Python 3",
      "name": "python3"
    },
    "language_info": {
      "pygments_lexer": "ipython3",
      "nbconvert_exporter": "python",
      "version": "3.6.4",
      "file_extension": ".py",
      "codemirror_mode": {
        "name": "ipython",
        "version": 3
      },
      "name": "python",
      "mimetype": "text/x-python"
    },
    "colab": {
      "name": "arabic-sign-language-image-classification-lina (2).ipynb",
      "provenance": []
    }
  },
  "cells": [
    {
      "cell_type": "code",
      "metadata": {
        "execution": {
          "iopub.status.busy": "2021-05-26T17:33:55.066869Z",
          "iopub.execute_input": "2021-05-26T17:33:55.067177Z",
          "iopub.status.idle": "2021-05-26T17:35:50.512055Z",
          "shell.execute_reply.started": "2021-05-26T17:33:55.067126Z",
          "shell.execute_reply": "2021-05-26T17:35:50.511302Z"
        },
        "trusted": true,
        "id": "VJ1faipwf5xu"
      },
      "source": [
        "!conda config --env --set always_yes true\n",
        "!conda install -c conda-forge arabic_reshaper\n",
        "!conda install -c conda-forge python-bidi "
      ],
      "execution_count": null,
      "outputs": []
    },
    {
      "cell_type": "code",
      "metadata": {
        "_uuid": "8f2839f25d086af736a60e9eeb907d3b93b6e0e5",
        "_cell_guid": "b1076dfc-b9ad-4769-8c92-a6c4dae69d19",
        "execution": {
          "iopub.status.busy": "2021-05-26T17:35:50.514131Z",
          "iopub.execute_input": "2021-05-26T17:35:50.514431Z",
          "iopub.status.idle": "2021-05-26T17:35:53.366992Z",
          "shell.execute_reply.started": "2021-05-26T17:35:50.514382Z",
          "shell.execute_reply": "2021-05-26T17:35:53.366256Z"
        },
        "trusted": true,
        "id": "HzP8sieff5xv"
      },
      "source": [
        "import os\n",
        "import numpy as np # linear algebra\n",
        "import pandas as pd # data processing, CSV file I/O (e.g. pd.read_csv)\n",
        "\n",
        "import random # Generate pseudo-random numbers\n",
        "from random import randint\n",
        "\n",
        "from sklearn.utils import shuffle # Shuffle arrays or sparse matrices in a consistent way\n",
        "from sklearn.model_selection import train_test_split # Split arrays or matrices into random train and test subsets\n",
        "from sklearn.metrics import classification_report, confusion_matrix\n",
        "import sklearn\n",
        "\n",
        "import matplotlib.pyplot as plt\n",
        "import matplotlib.gridspec as gridspec # Specifies the geometry of the grid that a subplot can be placed in.\n",
        "\n",
        "import keras\n",
        "from keras import models as Models\n",
        "from keras import layers as Layers\n",
        "from keras.preprocessing import image\n",
        "from keras.models import Sequential,Model\n",
        "from keras.layers import Input,InputLayer, Dense, Activation, ZeroPadding2D, BatchNormalization\n",
        "from keras.layers import Flatten, Conv2D, AveragePooling2D, MaxPooling2D, Dropout\n",
        "from keras.optimizers import Adam\n",
        "from keras.callbacks import ModelCheckpoint,EarlyStopping\n",
        "from keras import utils as Utils\n",
        "from keras.utils import to_categorical # Converts a class vector (integers) to binary class matrix.\n",
        "\n",
        "from keras.utils.vis_utils import model_to_dot\n",
        "\n",
        "import seaborn as sns\n",
        "\n",
        "# from IPython.display import SVG\n",
        "\n",
        "import arabic_reshaper # Reconstruct Arabic sentences to be used in applications that don't support Arabic\n",
        "#from bidi.algorithm import get_display"
      ],
      "execution_count": null,
      "outputs": []
    },
    {
      "cell_type": "code",
      "metadata": {
        "execution": {
          "iopub.status.busy": "2021-05-26T17:35:53.368402Z",
          "iopub.execute_input": "2021-05-26T17:35:53.368686Z",
          "iopub.status.idle": "2021-05-26T17:35:53.373023Z",
          "shell.execute_reply.started": "2021-05-26T17:35:53.36864Z",
          "shell.execute_reply": "2021-05-26T17:35:53.372277Z"
        },
        "trusted": true,
        "id": "--6blegXf5xw"
      },
      "source": [
        "# global variables\n",
        "Language = \"Ar\"\n",
        "ImageClassMapping_path = \"../input/Labels/ImagesClassPath.csv\"\n",
        "ClassLabels_path = \"../input/Labels/ClassLabels.xlsx\"\n",
        "ImagesRoot_path = \"../input/\"\n",
        "\n",
        "ModelFileName ='Model_255.h5'"
      ],
      "execution_count": null,
      "outputs": []
    },
    {
      "cell_type": "markdown",
      "metadata": {
        "id": "M3O_otrJf5xx"
      },
      "source": [
        "**2- Load Data**\n"
      ]
    },
    {
      "cell_type": "code",
      "metadata": {
        "execution": {
          "iopub.status.busy": "2021-05-26T17:35:53.374307Z",
          "iopub.execute_input": "2021-05-26T17:35:53.374776Z",
          "iopub.status.idle": "2021-05-26T17:35:53.553714Z",
          "shell.execute_reply.started": "2021-05-26T17:35:53.374723Z",
          "shell.execute_reply": "2021-05-26T17:35:53.553094Z"
        },
        "trusted": true,
        "id": "0PH3K7eYf5xx"
      },
      "source": [
        "# load 54k image path mapping\n",
        "df_ImageClassPath = pd.read_csv(ImageClassMapping_path)\n",
        "display(df_ImageClassPath.head())"
      ],
      "execution_count": null,
      "outputs": []
    },
    {
      "cell_type": "code",
      "metadata": {
        "execution": {
          "iopub.status.busy": "2021-05-26T17:35:53.558204Z",
          "iopub.execute_input": "2021-05-26T17:35:53.558539Z",
          "iopub.status.idle": "2021-05-26T17:35:53.731337Z",
          "shell.execute_reply.started": "2021-05-26T17:35:53.558494Z",
          "shell.execute_reply": "2021-05-26T17:35:53.730552Z"
        },
        "trusted": true,
        "id": "r552DFPff5xy"
      },
      "source": [
        "# load Class Labels\n",
        "df_Classes = pd.read_excel(ClassLabels_path)\n",
        "display(df_Classes.head())"
      ],
      "execution_count": null,
      "outputs": []
    },
    {
      "cell_type": "code",
      "metadata": {
        "execution": {
          "iopub.status.busy": "2021-05-26T17:35:53.734911Z",
          "iopub.execute_input": "2021-05-26T17:35:53.735152Z",
          "iopub.status.idle": "2021-05-26T17:35:53.753724Z",
          "shell.execute_reply.started": "2021-05-26T17:35:53.735108Z",
          "shell.execute_reply": "2021-05-26T17:35:53.75312Z"
        },
        "trusted": true,
        "id": "y_LOXkyXf5xy"
      },
      "source": [
        "df_ImageClassPath.groupby(\"ClassId\").size().describe()"
      ],
      "execution_count": null,
      "outputs": []
    },
    {
      "cell_type": "code",
      "metadata": {
        "execution": {
          "iopub.status.busy": "2021-05-26T17:35:53.754967Z",
          "iopub.execute_input": "2021-05-26T17:35:53.755322Z",
          "iopub.status.idle": "2021-05-26T17:35:54.092291Z",
          "shell.execute_reply.started": "2021-05-26T17:35:53.755264Z",
          "shell.execute_reply": "2021-05-26T17:35:54.091243Z"
        },
        "trusted": true,
        "id": "s1yPKTTKf5xz"
      },
      "source": [
        "\n",
        "ddata = {\"samples destribution\":df_ImageClassPath.groupby(\"ClassId\").size()}\n",
        "iindex = range(32)\n",
        "\n",
        "ddataframe = pd.DataFrame(data=ddata, index= iindex)\n",
        "ddataframe.plot.bar(stacked= True, rot= 15, title='samples destribution')\n",
        "plt.show(block= True)"
      ],
      "execution_count": null,
      "outputs": []
    },
    {
      "cell_type": "markdown",
      "metadata": {
        "id": "mZI1TRDgf5xz"
      },
      "source": [
        "**3- Define Functions**\n",
        "\n",
        "**SplitData(predictions,testsize):** *to split the data into Fixed number of samples for prediction(predictions) and rest will be splited by percentage of test and training (testsize)*<br><br>\n",
        "**get_classlabel(class_code,lang= 'Ar'):** *to return Class Label for a class (class_code) in arabic of English , default is arabic*<br><br>\n",
        "**getDataSet(setType,isDL):** *prepaer images and class to be used by model setType: Data type is training, validation or prediction, isDL: True for Keras CNN, False for skLearn KNN*<br><br>\n",
        "**display_prediction(col_size, row_size,XPred,yPred):** *Generally to display images <br><br>"
      ]
    },
    {
      "cell_type": "code",
      "metadata": {
        "execution": {
          "iopub.status.busy": "2021-05-26T17:35:54.093668Z",
          "iopub.execute_input": "2021-05-26T17:35:54.094113Z",
          "iopub.status.idle": "2021-05-26T17:35:54.104962Z",
          "shell.execute_reply.started": "2021-05-26T17:35:54.093913Z",
          "shell.execute_reply": "2021-05-26T17:35:54.103939Z"
        },
        "trusted": true,
        "id": "K3opWgbZf5x0"
      },
      "source": [
        "# Split 54K Images into 3 groups of Fixed Prediction, training and test\n",
        "# the dataset is 32 class,split is maintaind as per class \n",
        "def SplitData(predictions,testsize):\n",
        "    \n",
        "    min = df_ImageClassPath.groupby(\"ClassId\").size().min()\n",
        "    print('{0} Samples per Class'.format(min))\n",
        "    \n",
        "    # empty dataframes with same column difinition\n",
        "    df_TrainingSet = df_ImageClassPath[0:0].copy()\n",
        "    df_TestSet = df_ImageClassPath[0:0].copy()\n",
        "    df_PredSet = df_ImageClassPath[0:0].copy()\n",
        "\n",
        "    # Create the sets by loop thru classes and append\n",
        "    for index,row in df_Classes.iterrows():\n",
        "        # make sure all class are same size \n",
        "        df_FullSet = df_ImageClassPath[df_ImageClassPath['ClassId'] == row['ClassId']].sample(min,random_state= 42)\n",
        "        \n",
        "#         df_FullSet = df_ImageClassPath[df_ImageClassPath['ClassId'] == row['ClassId']]\n",
        "        \n",
        "        df_PredSet = df_PredSet.append(df_FullSet.sample(n=predictions, random_state=1))\n",
        "        df_FullSet = pd.merge(df_FullSet,df_PredSet, indicator=True, \n",
        "                              how='left').query('_merge==\"left_only\"').drop('_merge', axis=1)\n",
        "        \n",
        "        trainingSet, testSet = train_test_split(df_FullSet, test_size= testsize)        \n",
        "        \n",
        "        df_TrainingSet = df_TrainingSet.append(trainingSet)\n",
        "        df_TestSet = df_TestSet.append(testSet)\n",
        "    \n",
        "    return df_TrainingSet,df_TestSet,df_PredSet\n"
      ],
      "execution_count": null,
      "outputs": []
    },
    {
      "cell_type": "code",
      "metadata": {
        "execution": {
          "iopub.status.busy": "2021-05-26T17:35:54.106616Z",
          "iopub.execute_input": "2021-05-26T17:35:54.10713Z",
          "iopub.status.idle": "2021-05-26T17:35:54.115682Z",
          "shell.execute_reply.started": "2021-05-26T17:35:54.106887Z",
          "shell.execute_reply": "2021-05-26T17:35:54.11477Z"
        },
        "trusted": true,
        "id": "A4noJ9WWf5x1"
      },
      "source": [
        "# retrive class Label (Arabic or English) using class id \n",
        "def get_classlabel(class_code,lang= 'Ar'):\n",
        "    if lang== 'Ar':\n",
        "        text_to_be_reshaped = df_Classes.loc[df_Classes['ClassId'] == class_code, \n",
        "                                             'ClassAr'].values[0]\n",
        "        reshaped_text = arabic_reshaper.reshape(text_to_be_reshaped)\n",
        "        return get_display(reshaped_text)\n",
        "    elif lang== 'En':\n",
        "        return df_Classes.loc[df_Classes['ClassId'] == class_code, 'Class'].values[0]\n",
        "    "
      ],
      "execution_count": null,
      "outputs": []
    },
    {
      "cell_type": "code",
      "metadata": {
        "execution": {
          "iopub.status.busy": "2021-05-26T17:35:54.117171Z",
          "iopub.execute_input": "2021-05-26T17:35:54.117705Z",
          "iopub.status.idle": "2021-05-26T17:35:54.130786Z",
          "shell.execute_reply.started": "2021-05-26T17:35:54.117493Z",
          "shell.execute_reply": "2021-05-26T17:35:54.12984Z"
        },
        "trusted": true,
        "id": "Btw4iccKf5x3"
      },
      "source": [
        "# prepare Images, and class Arrays\n",
        "def getDataSet(setType,isDL): # 'Training' for Training dataset , 'Testing' for Testing data set\n",
        "    imgs = []\n",
        "    lbls = []\n",
        "    df = pd.DataFrame(None)\n",
        "    \n",
        "    if setType =='Training':\n",
        "        df = dtTraining.copy()\n",
        "    elif setType=='Test':\n",
        "        df = dtTest.copy()\n",
        "    elif setType=='Prediction':\n",
        "        df = dtPred.copy()\n",
        "\n",
        "    for index,row in df.iterrows():\n",
        "        lbls.append(row['ClassId'])\n",
        "        try:\n",
        "            imageFilePath = os.path.join(ImagesRoot_path, row['ImagePath'])\n",
        "            img = image.load_img(imageFilePath, target_size=(32,32,1), \n",
        "                                 color_mode = \"grayscale\")\n",
        "            img = image.img_to_array(img) # to array\n",
        "            img = img/255 # Normalize\n",
        "            if isDL == False:\n",
        "                img = img.flatten() # for knn_classifier Model\n",
        "            imgs.append(img)\n",
        "\n",
        "        except Exception as e:\n",
        "            print(e)\n",
        "            \n",
        "    shuffle(imgs,lbls,random_state=255) #Shuffle the dataset\n",
        "\n",
        "    imgs = np.array(imgs)\n",
        "    lbls = np.array(lbls)\n",
        "    if isDL ==True:\n",
        "        lbls = to_categorical(lbls) # for keras CNN Model\n",
        "    return imgs, lbls"
      ],
      "execution_count": null,
      "outputs": []
    },
    {
      "cell_type": "code",
      "metadata": {
        "execution": {
          "iopub.status.busy": "2021-05-26T17:35:54.132311Z",
          "iopub.execute_input": "2021-05-26T17:35:54.132908Z",
          "iopub.status.idle": "2021-05-26T17:35:54.143887Z",
          "shell.execute_reply.started": "2021-05-26T17:35:54.132604Z",
          "shell.execute_reply": "2021-05-26T17:35:54.143258Z"
        },
        "trusted": true,
        "id": "X9f_RAaZf5x4"
      },
      "source": [
        "def display_prediction(col_size, row_size,XPred,yPred): \n",
        "    img_index=0\n",
        "    fig, ax = plt.subplots(row_size, col_size, figsize=(row_size*2.5,col_size*1.5))\n",
        "    for row in range(0,row_size):\n",
        "        for col in range(0,col_size):\n",
        "            ax[row][col].imshow(XPred[img_index][:,:,0], cmap='gray')\n",
        "            ax[row][col].set_title(\"({}) {}\".format(yPred[img_index],get_classlabel(yPred[img_index],'Ar')))\n",
        "            ax[row][col].set_xticks([])\n",
        "            ax[row][col].set_yticks([])\n",
        "            img_index += 1"
      ],
      "execution_count": null,
      "outputs": []
    },
    {
      "cell_type": "markdown",
      "metadata": {
        "id": "N4z6dBbyf5x5"
      },
      "source": [
        "**4- Preparing Data**"
      ]
    },
    {
      "cell_type": "code",
      "metadata": {
        "execution": {
          "iopub.status.busy": "2021-05-26T17:35:54.145456Z",
          "iopub.execute_input": "2021-05-26T17:35:54.146054Z",
          "iopub.status.idle": "2021-05-26T17:35:54.754301Z",
          "shell.execute_reply.started": "2021-05-26T17:35:54.145845Z",
          "shell.execute_reply": "2021-05-26T17:35:54.753491Z"
        },
        "trusted": true,
        "id": "W0rxsHPuf5x5"
      },
      "source": [
        "# Split our Dataset into Training, Test and Prediction\n",
        "# take 3 images per class for later prediction (96 images 3 x 32 class category)\n",
        "# split the remaining into 20% test and 80% Training\n",
        "\n",
        "dtTraining, dtTest,dtPred = SplitData(3,0.3)"
      ],
      "execution_count": null,
      "outputs": []
    },
    {
      "cell_type": "code",
      "metadata": {
        "execution": {
          "iopub.status.busy": "2021-05-26T17:35:54.755559Z",
          "iopub.execute_input": "2021-05-26T17:35:54.755837Z",
          "iopub.status.idle": "2021-05-26T17:35:54.763186Z",
          "shell.execute_reply.started": "2021-05-26T17:35:54.755795Z",
          "shell.execute_reply": "2021-05-26T17:35:54.762391Z"
        },
        "trusted": true,
        "id": "fray0D5ff5x6"
      },
      "source": [
        "print('Pred     {} \\t # {} per class'.format(dtPred.shape[0], dtPred.shape[0] //32))\n",
        "print('Training {} \\t # {} per class'.format(dtTraining.shape[0], dtTraining.shape[0] //32))\n",
        "print('Test     {} \\t # {} per class'.format(dtTest.shape[0], dtTest.shape[0] //32))\n",
        "print('---------------')\n",
        "print('Sum      {}'.format(dtTraining.shape[0] + dtTest.shape[0] + dtPred.shape[0]))"
      ],
      "execution_count": null,
      "outputs": []
    },
    {
      "cell_type": "code",
      "metadata": {
        "execution": {
          "iopub.status.busy": "2021-05-26T17:35:54.764517Z",
          "iopub.execute_input": "2021-05-26T17:35:54.765009Z",
          "iopub.status.idle": "2021-05-26T17:35:55.380518Z",
          "shell.execute_reply.started": "2021-05-26T17:35:54.764948Z",
          "shell.execute_reply": "2021-05-26T17:35:55.379758Z"
        },
        "trusted": true,
        "id": "lkvaaBJ3f5x6"
      },
      "source": [
        "ddata = {\"Training\":dtTraining.groupby(\"ClassId\").size(),\"Test\":dtTest.groupby(\"ClassId\").size()}\n",
        "iindex = range(32)\n",
        "\n",
        "ddataframe = pd.DataFrame(data=ddata, index= iindex)\n",
        "ddataframe.plot.bar(stacked= True, rot= 15, title='Training vs Test data')\n",
        "plt.show(block= True)"
      ],
      "execution_count": null,
      "outputs": []
    },
    {
      "cell_type": "markdown",
      "metadata": {
        "id": "NdhIAGfBf5x7"
      },
      "source": [
        "**5- Model Definition**"
      ]
    },
    {
      "cell_type": "markdown",
      "metadata": {
        "id": "sIxZTfzZf5x7"
      },
      "source": [
        "**5.B- Keras Convolutional Neural Network (CNN)**"
      ]
    },
    {
      "cell_type": "code",
      "metadata": {
        "execution": {
          "iopub.status.busy": "2021-05-26T17:35:55.381799Z",
          "iopub.execute_input": "2021-05-26T17:35:55.382302Z",
          "iopub.status.idle": "2021-05-26T17:41:07.713861Z",
          "shell.execute_reply.started": "2021-05-26T17:35:55.382098Z",
          "shell.execute_reply": "2021-05-26T17:41:07.713116Z"
        },
        "trusted": true,
        "id": "YZjbbIsGf5x8"
      },
      "source": [
        "X_train,y_train = getDataSet('Training',True)\n",
        "X_test,y_test= getDataSet('Test',True)\n",
        "X_pred,_ = getDataSet('Prediction',True)"
      ],
      "execution_count": null,
      "outputs": []
    },
    {
      "cell_type": "code",
      "metadata": {
        "execution": {
          "iopub.status.busy": "2021-05-26T17:41:07.715198Z",
          "iopub.execute_input": "2021-05-26T17:41:07.715485Z",
          "iopub.status.idle": "2021-05-26T17:41:07.78178Z",
          "shell.execute_reply.started": "2021-05-26T17:41:07.71544Z",
          "shell.execute_reply": "2021-05-26T17:41:07.780998Z"
        },
        "trusted": true,
        "id": "IAgEJP76f5x8"
      },
      "source": [
        "from sklearn.model_selection import train_test_split\n",
        "X_train,X_valid,y_train,y_valid=train_test_split(X_train,y_train,test_size=0.3,random_state=0)"
      ],
      "execution_count": null,
      "outputs": []
    },
    {
      "cell_type": "code",
      "metadata": {
        "execution": {
          "iopub.status.busy": "2021-05-26T17:41:07.783299Z",
          "iopub.execute_input": "2021-05-26T17:41:07.783771Z",
          "iopub.status.idle": "2021-05-26T17:41:07.790287Z",
          "shell.execute_reply.started": "2021-05-26T17:41:07.783557Z",
          "shell.execute_reply": "2021-05-26T17:41:07.789537Z"
        },
        "trusted": true,
        "id": "jPUtxiWtf5x8"
      },
      "source": [
        "print(\"Shape of train Images:{} , train Labels: {}\".format(X_train.shape,y_train.shape))\n",
        "print(\"Shape of validation Images:{} , valid Labels: {}\".format(X_valid.shape,y_valid.shape))\n",
        "print(\"Shape of test Images:{} , test Labels: {}\".format(X_test.shape,y_test.shape))\n",
        "print(\"Shape of Prediction Images:{} , Prediction Labels: {}\".format(X_pred.shape,\"?\"))"
      ],
      "execution_count": null,
      "outputs": []
    },
    {
      "cell_type": "code",
      "metadata": {
        "execution": {
          "iopub.status.busy": "2021-05-26T17:41:07.791563Z",
          "iopub.execute_input": "2021-05-26T17:41:07.792006Z",
          "iopub.status.idle": "2021-05-26T17:41:10.346054Z",
          "shell.execute_reply.started": "2021-05-26T17:41:07.791935Z",
          "shell.execute_reply": "2021-05-26T17:41:10.345381Z"
        },
        "trusted": true,
        "id": "o-eHDscqf5x9"
      },
      "source": [
        "model=Sequential()\n",
        "model.add(Conv2D(128,kernel_size=(5,5),\n",
        "                 strides=1,padding='same',activation='relu',input_shape=(32,32,1)))\n",
        "model.add(MaxPooling2D(pool_size=(3,3),strides=2,padding='same'))\n",
        "model.add(Conv2D(64,kernel_size=(2,2),\n",
        "                strides=1,activation='relu',padding='same'))\n",
        "model.add(MaxPooling2D((2,2),2,padding='same'))\n",
        "model.add(Conv2D(32,kernel_size=(2,2),\n",
        "               strides=1,activation='relu',padding='same'))\n",
        "model.add(MaxPooling2D((2,2),2,padding='same'))\n",
        "          \n",
        "model.add(Flatten())\n"
      ],
      "execution_count": null,
      "outputs": []
    },
    {
      "cell_type": "code",
      "metadata": {
        "execution": {
          "iopub.status.busy": "2021-05-26T17:41:10.347478Z",
          "iopub.execute_input": "2021-05-26T17:41:10.34775Z",
          "iopub.status.idle": "2021-05-26T17:41:10.40128Z",
          "shell.execute_reply.started": "2021-05-26T17:41:10.347708Z",
          "shell.execute_reply": "2021-05-26T17:41:10.39976Z"
        },
        "trusted": true,
        "id": "RLFR2J-af5x-"
      },
      "source": [
        "model.add(Dense(units=512,activation='relu'))\n",
        "model.add(Dropout(rate=0.25))\n",
        "model.add(Dense(units=32,activation='softmax'))\n",
        "model.summary()"
      ],
      "execution_count": null,
      "outputs": []
    },
    {
      "cell_type": "code",
      "metadata": {
        "execution": {
          "iopub.status.busy": "2021-05-26T17:41:10.402451Z",
          "iopub.execute_input": "2021-05-26T17:41:10.402723Z",
          "iopub.status.idle": "2021-05-26T17:41:10.415211Z",
          "shell.execute_reply.started": "2021-05-26T17:41:10.402677Z",
          "shell.execute_reply": "2021-05-26T17:41:10.414501Z"
        },
        "trusted": true,
        "id": "ck9qNuuSf5x-"
      },
      "source": [
        "from keras import backend as K\n",
        "from sklearn.metrics import f1_score\n",
        "import copy\n",
        "\n",
        "\n",
        "def recall_m(y_true, y_pred):\n",
        "    true_positives = K.sum(K.round(K.clip(y_true * y_pred, 0, 1)))\n",
        "    possible_positives = K.sum(K.round(K.clip(y_true, 0, 1)))\n",
        "    recall = true_positives / (possible_positives + K.epsilon())\n",
        "    return recall\n",
        "\n",
        "def precision_m(y_true, y_pred):\n",
        "    true_positives = K.sum(K.round(K.clip(y_true * y_pred, 0, 1)))\n",
        "    predicted_positives = K.sum(K.round(K.clip(y_pred, 0, 1)))\n",
        "    precision = true_positives / (predicted_positives + K.epsilon())\n",
        "    return precision"
      ],
      "execution_count": null,
      "outputs": []
    },
    {
      "cell_type": "code",
      "metadata": {
        "execution": {
          "iopub.status.busy": "2021-05-26T17:41:10.41795Z",
          "iopub.execute_input": "2021-05-26T17:41:10.418342Z",
          "iopub.status.idle": "2021-05-26T17:41:10.425023Z",
          "shell.execute_reply.started": "2021-05-26T17:41:10.418253Z",
          "shell.execute_reply": "2021-05-26T17:41:10.424362Z"
        },
        "trusted": true,
        "id": "f8gOd1RCf5x_"
      },
      "source": [
        "def f1_m(y_true, y_pred):\n",
        "    precision = precision_m(y_true, y_pred)\n",
        "    recall = recall_m(y_true, y_pred)\n",
        "    return 2*((precision*recall)/(precision+recall+K.epsilon()))"
      ],
      "execution_count": null,
      "outputs": []
    },
    {
      "cell_type": "code",
      "metadata": {
        "execution": {
          "iopub.status.busy": "2021-05-26T17:47:42.143779Z",
          "iopub.execute_input": "2021-05-26T17:47:42.144096Z",
          "iopub.status.idle": "2021-05-26T17:47:42.271288Z",
          "shell.execute_reply.started": "2021-05-26T17:47:42.144046Z",
          "shell.execute_reply": "2021-05-26T17:47:42.270507Z"
        },
        "trusted": true,
        "id": "_4qxVMw6f5yA"
      },
      "source": [
        "\n",
        "opt = keras.optimizers.Adam(learning_rate=0.0001)\n",
        "model.compile(optimizer=opt,loss='categorical_crossentropy',metrics=['accuracy',f1_m,recall_m,precision_m])"
      ],
      "execution_count": null,
      "outputs": []
    },
    {
      "cell_type": "code",
      "metadata": {
        "execution": {
          "iopub.status.busy": "2021-05-26T17:47:44.233362Z",
          "iopub.execute_input": "2021-05-26T17:47:44.23366Z",
          "iopub.status.idle": "2021-05-26T17:49:00.612228Z",
          "shell.execute_reply.started": "2021-05-26T17:47:44.233603Z",
          "shell.execute_reply": "2021-05-26T17:49:00.611463Z"
        },
        "trusted": true,
        "id": "RorE8Yqff5yA"
      },
      "source": [
        "callbacks_list =[EarlyStopping(monitor='val_loss', patience=50), ModelCheckpoint(\n",
        "    filepath='model_255.h5', monitor='val_loss', save_best_only= True),]\n",
        "\n",
        "trained = model.fit(X_train, y_train, epochs=50, validation_data=(X_valid, y_valid),batch_size=200, \n",
        "                    callbacks= callbacks_list)\n"
      ],
      "execution_count": null,
      "outputs": []
    },
    {
      "cell_type": "markdown",
      "metadata": {
        "id": "jBYsfP_Af5yA"
      },
      "source": [
        "**7- Model Evaluation**"
      ]
    },
    {
      "cell_type": "code",
      "metadata": {
        "execution": {
          "iopub.status.busy": "2021-05-26T17:52:27.992438Z",
          "iopub.execute_input": "2021-05-26T17:52:27.992785Z",
          "iopub.status.idle": "2021-05-26T17:52:29.171342Z",
          "shell.execute_reply.started": "2021-05-26T17:52:27.992731Z",
          "shell.execute_reply": "2021-05-26T17:52:29.170679Z"
        },
        "trusted": true,
        "id": "9ZLDr4Ytf5yA"
      },
      "source": [
        "p=model.evaluate(X_test,y_test)\n",
        "print(\"loss\", str(p[0]))\n",
        "print(\"accurecy\",str(p[1]))\n",
        "\n",
        "print(\"f1-score\", str(p[2]))\n",
        "print(\"recall\",str(p[3]))\n",
        "print(\"percision\",str(p[4]))"
      ],
      "execution_count": null,
      "outputs": []
    },
    {
      "cell_type": "code",
      "metadata": {
        "execution": {
          "iopub.status.busy": "2021-05-26T17:54:03.33429Z",
          "iopub.execute_input": "2021-05-26T17:54:03.334599Z",
          "iopub.status.idle": "2021-05-26T17:54:03.343077Z",
          "shell.execute_reply.started": "2021-05-26T17:54:03.334549Z",
          "shell.execute_reply": "2021-05-26T17:54:03.341977Z"
        },
        "trusted": true,
        "id": "7-lw7XfFf5yB"
      },
      "source": [
        "import pandas as pd\n",
        "hist_df=pd.DataFrame(trained.history)\n",
        "hist_csv_file='history1.csv'\n",
        "with open(hist_csv_file, mode='w')as f:\n",
        "    hist_df.to_csv(f)"
      ],
      "execution_count": null,
      "outputs": []
    },
    {
      "cell_type": "code",
      "metadata": {
        "execution": {
          "iopub.status.busy": "2021-05-26T17:54:13.094873Z",
          "iopub.execute_input": "2021-05-26T17:54:13.095185Z",
          "iopub.status.idle": "2021-05-26T17:54:13.101693Z",
          "shell.execute_reply.started": "2021-05-26T17:54:13.095128Z",
          "shell.execute_reply": "2021-05-26T17:54:13.101024Z"
        },
        "trusted": true,
        "id": "RKcCY7b4f5yB"
      },
      "source": [
        ""
      ],
      "execution_count": null,
      "outputs": []
    }
  ]
}